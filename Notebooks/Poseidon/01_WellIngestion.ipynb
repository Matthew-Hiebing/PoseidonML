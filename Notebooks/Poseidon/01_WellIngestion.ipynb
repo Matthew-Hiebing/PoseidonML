{
 "cells": [
  {
   "cell_type": "code",
   "execution_count": 2,
   "id": "f7ed5967",
   "metadata": {},
   "outputs": [],
   "source": [
    "import welly"
   ]
  },
  {
   "cell_type": "code",
   "execution_count": 3,
   "id": "c2299980",
   "metadata": {},
   "outputs": [
    {
     "name": "stderr",
     "output_type": "stream",
     "text": [
      "Loading wells: 100%|██████████| 8/8 [00:03<00:00,  2.13it/s]\n"
     ]
    }
   ],
   "source": [
    "project = welly.read_las(\"../../Data/*.LAS\")"
   ]
  },
  {
   "cell_type": "code",
   "execution_count": null,
   "id": "99cfbb19",
   "metadata": {},
   "outputs": [
    {
     "data": {
      "text/plain": [
       "{'ATRT',\n",
       " 'ATRX',\n",
       " 'BATC',\n",
       " 'CAL1',\n",
       " 'DCAV',\n",
       " 'DTC',\n",
       " 'DTCO',\n",
       " 'DTS',\n",
       " 'DTSM',\n",
       " 'ECGR',\n",
       " 'GR',\n",
       " 'GRARC',\n",
       " 'GRD',\n",
       " 'HDAR',\n",
       " 'HROM',\n",
       " 'HTNP',\n",
       " 'NPHI',\n",
       " 'P16H',\n",
       " 'P34H',\n",
       " 'RD',\n",
       " 'RHOB',\n",
       " 'RHOZ',\n",
       " 'RS',\n",
       " 'TNP',\n",
       " 'TNPH'}"
      ]
     },
     "execution_count": 26,
     "metadata": {},
     "output_type": "execute_result"
    }
   ],
   "source": [
    "## For each log inside each well, figure out the unique curve name and alias them.\n",
    "unique_well_logs = set()\n",
    "for well in project:\n",
    "    unique_well_logs.update(well.data.keys())\n",
    "\n",
    "unique_well_logs"
   ]
  },
  {
   "cell_type": "code",
   "execution_count": null,
   "id": "398db203",
   "metadata": {},
   "outputs": [],
   "source": [
    "alias = {\n",
    "    \"Gamma\": [\"GR\", \"GRARC\", \"GRD\"],\n",
    "    \"Density\": [\"RHOZ\", \"RHOB\", \"DEN\", \"RHOZ\"],\n",
    "    \"Sonic\": [\"DT\", \"DTC\", \"DTCO\", \"DTSM\"],\n",
    "    \"Caliper\": [\"CAL\", \"CALI\", \"CALS\", \"CAL1\", \"HDAR\"],\n",
    "    \"Porosity SS\": ['NPSS', 'DPSS'],\n",
    "    \"Resistivity\": [\"RS\",\"RD\"],\n",
    "    \"Neutron Porosity\": [\"NPHI\",\"TNPH\",\"TNP\"]\n",
    "}"
   ]
  },
  {
   "cell_type": "code",
   "execution_count": 12,
   "id": "0ece1153",
   "metadata": {},
   "outputs": [
    {
     "ename": "WellPlotError",
     "evalue": "Track list returned no curves.",
     "output_type": "error",
     "traceback": [
      "\u001b[31m---------------------------------------------------------------------------\u001b[39m",
      "\u001b[31mWellPlotError\u001b[39m                             Traceback (most recent call last)",
      "\u001b[36mCell\u001b[39m\u001b[36m \u001b[39m\u001b[32mIn[12]\u001b[39m\u001b[32m, line 1\u001b[39m\n\u001b[32m----> \u001b[39m\u001b[32m1\u001b[39m \u001b[43mproject\u001b[49m\u001b[43m[\u001b[49m\u001b[32;43m0\u001b[39;49m\u001b[43m]\u001b[49m\u001b[43m.\u001b[49m\u001b[43mplot\u001b[49m\u001b[43m(\u001b[49m\u001b[43mtracks\u001b[49m\u001b[43m \u001b[49m\u001b[43m=\u001b[49m\u001b[43m \u001b[49m\u001b[43m[\u001b[49m\u001b[33;43m'\u001b[39;49m\u001b[33;43mMD\u001b[39;49m\u001b[33;43m'\u001b[39;49m\u001b[43m,\u001b[49m\u001b[33;43m'\u001b[39;49m\u001b[33;43mGR\u001b[39;49m\u001b[33;43m'\u001b[39;49m\u001b[43m]\u001b[49m\u001b[43m)\u001b[49m\n",
      "\u001b[36mFile \u001b[39m\u001b[32md:\\Users\\Matt\\Documents\\GitHub\\PoseidonML\\.venv\\Lib\\site-packages\\welly\\well.py:745\u001b[39m, in \u001b[36mWell.plot\u001b[39m\u001b[34m(self, legend, tracks, track_titles, alias, basis, extents, **kwargs)\u001b[39m\n\u001b[32m    713\u001b[39m \u001b[38;5;28;01mdef\u001b[39;00m\u001b[38;5;250m \u001b[39m\u001b[34mplot\u001b[39m(\u001b[38;5;28mself\u001b[39m,\n\u001b[32m    714\u001b[39m          legend=\u001b[38;5;28;01mNone\u001b[39;00m,\n\u001b[32m    715\u001b[39m          tracks=\u001b[38;5;28;01mNone\u001b[39;00m,\n\u001b[32m   (...)\u001b[39m\u001b[32m    719\u001b[39m          extents=\u001b[33m'\u001b[39m\u001b[33mtd\u001b[39m\u001b[33m'\u001b[39m,\n\u001b[32m    720\u001b[39m          **kwargs):\n\u001b[32m    721\u001b[39m \u001b[38;5;250m    \u001b[39m\u001b[33;03m\"\"\"\u001b[39;00m\n\u001b[32m    722\u001b[39m \u001b[33;03m    Plot multiple tracks. Wrapping plot function from plot.py.\u001b[39;00m\n\u001b[32m    723\u001b[39m \u001b[33;03m    By default only show the plot, not return the figure object.\u001b[39;00m\n\u001b[32m   (...)\u001b[39m\u001b[32m    743\u001b[39m \u001b[33;03m        None. The plot is a side-effect.\u001b[39;00m\n\u001b[32m    744\u001b[39m \u001b[33;03m    \"\"\"\u001b[39;00m\n\u001b[32m--> \u001b[39m\u001b[32m745\u001b[39m     \u001b[38;5;28;01mreturn\u001b[39;00m \u001b[43mplot_well\u001b[49m\u001b[43m(\u001b[49m\u001b[43mwell\u001b[49m\u001b[43m=\u001b[49m\u001b[38;5;28;43mself\u001b[39;49m\u001b[43m,\u001b[49m\n\u001b[32m    746\u001b[39m \u001b[43m                     \u001b[49m\u001b[43mlegend\u001b[49m\u001b[43m=\u001b[49m\u001b[43mlegend\u001b[49m\u001b[43m,\u001b[49m\n\u001b[32m    747\u001b[39m \u001b[43m                     \u001b[49m\u001b[43mtracks\u001b[49m\u001b[43m=\u001b[49m\u001b[43mtracks\u001b[49m\u001b[43m,\u001b[49m\n\u001b[32m    748\u001b[39m \u001b[43m                     \u001b[49m\u001b[43mtrack_titles\u001b[49m\u001b[43m=\u001b[49m\u001b[43mtrack_titles\u001b[49m\u001b[43m,\u001b[49m\n\u001b[32m    749\u001b[39m \u001b[43m                     \u001b[49m\u001b[43malias\u001b[49m\u001b[43m=\u001b[49m\u001b[43malias\u001b[49m\u001b[43m,\u001b[49m\n\u001b[32m    750\u001b[39m \u001b[43m                     \u001b[49m\u001b[43mbasis\u001b[49m\u001b[43m=\u001b[49m\u001b[43mbasis\u001b[49m\u001b[43m,\u001b[49m\n\u001b[32m    751\u001b[39m \u001b[43m                     \u001b[49m\u001b[43mextents\u001b[49m\u001b[43m=\u001b[49m\u001b[43mextents\u001b[49m\u001b[43m,\u001b[49m\n\u001b[32m    752\u001b[39m \u001b[43m                     \u001b[49m\u001b[43m*\u001b[49m\u001b[43m*\u001b[49m\u001b[43mkwargs\u001b[49m\u001b[43m)\u001b[49m\n",
      "\u001b[36mFile \u001b[39m\u001b[32md:\\Users\\Matt\\Documents\\GitHub\\PoseidonML\\.venv\\Lib\\site-packages\\welly\\plot.py:219\u001b[39m, in \u001b[36mplot_well\u001b[39m\u001b[34m(well, legend, tracks, track_titles, alias, basis, extents, **kwargs)\u001b[39m\n\u001b[32m    217\u001b[39m         a = \u001b[33m\"\u001b[39m\u001b[33m \u001b[39m\u001b[33m\"\u001b[39m\n\u001b[32m    218\u001b[39m     m = \u001b[33m\"\u001b[39m\u001b[33mTrack list\u001b[39m\u001b[38;5;132;01m{}\u001b[39;00m\u001b[33mreturned no curves.\u001b[39m\u001b[33m\"\u001b[39m.format(a)\n\u001b[32m--> \u001b[39m\u001b[32m219\u001b[39m     \u001b[38;5;28;01mraise\u001b[39;00m WellPlotError(m)\n\u001b[32m    221\u001b[39m \u001b[38;5;66;03m# Figure out limits\u001b[39;00m\n\u001b[32m    222\u001b[39m \u001b[38;5;28;01mif\u001b[39;00m basis \u001b[38;5;129;01mis\u001b[39;00m \u001b[38;5;28;01mNone\u001b[39;00m:\n",
      "\u001b[31mWellPlotError\u001b[39m: Track list returned no curves."
     ]
    }
   ],
   "source": [
    "project[0].plot(tracks = ['MD','GR'])"
   ]
  },
  {
   "cell_type": "code",
   "execution_count": null,
   "id": "73cba9e7",
   "metadata": {},
   "outputs": [],
   "source": []
  }
 ],
 "metadata": {
  "kernelspec": {
   "display_name": "1610-facies-classification",
   "language": "python",
   "name": "python3"
  },
  "language_info": {
   "codemirror_mode": {
    "name": "ipython",
    "version": 3
   },
   "file_extension": ".py",
   "mimetype": "text/x-python",
   "name": "python",
   "nbconvert_exporter": "python",
   "pygments_lexer": "ipython3",
   "version": "3.13.5"
  }
 },
 "nbformat": 4,
 "nbformat_minor": 5
}
